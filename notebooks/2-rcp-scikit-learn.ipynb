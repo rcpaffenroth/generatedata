{
 "cells": [
  {
   "cell_type": "markdown",
   "id": "68cba50b",
   "metadata": {},
   "source": [
    "# Using generatedata with scikit-learn\n",
    "\n",
    "This notebook demonstrates how to use the output of `load_data_as_xy` and `load_data_as_xy_onehot` with a scikit-learn RandomForest model."
   ]
  },
  {
   "cell_type": "code",
   "execution_count": 1,
   "id": "8b014ca4",
   "metadata": {},
   "outputs": [],
   "source": [
    "# Import required libraries\n",
    "from generatedata import load_data\n",
    "from sklearn.ensemble import RandomForestClassifier, RandomForestRegressor\n",
    "from sklearn.metrics import accuracy_score, mean_squared_error\n",
    "import numpy as np\n",
    "import pandas as pd\n",
    "import warnings\n",
    "warnings.filterwarnings('ignore')"
   ]
  },
  {
   "cell_type": "markdown",
   "id": "f76cd4d9",
   "metadata": {},
   "source": [
    "## Example 1: Regression with a synthetic dataset\n",
    "We'll use `load_data_as_xy` to get features and targets for a regression problem."
   ]
  },
  {
   "cell_type": "code",
   "execution_count": 2,
   "id": "0367d02c",
   "metadata": {},
   "outputs": [
    {
     "name": "stdout",
     "output_type": "stream",
     "text": [
      "Regression MSE: 0.0000\n"
     ]
    }
   ],
   "source": [
    "# Load a regression dataset\n",
    "X, Y = load_data.load_data_as_xy('regression_line', local=True)\n",
    "# Use only the first output column if Y is multidimensional\n",
    "if isinstance(Y, pd.DataFrame):\n",
    "    y = Y.iloc[:, 0]\n",
    "else:\n",
    "    y = Y\n",
    "# Train/test split\n",
    "from sklearn.model_selection import train_test_split\n",
    "X_train, X_test, y_train, y_test = train_test_split(X, y, test_size=0.2, random_state=42)\n",
    "# Fit RandomForestRegressor\n",
    "reg = RandomForestRegressor(n_estimators=100, random_state=42)\n",
    "reg.fit(X_train, y_train)\n",
    "y_pred = reg.predict(X_test)\n",
    "mse = mean_squared_error(y_test, y_pred)\n",
    "print(f'Regression MSE: {mse:.4f}')"
   ]
  },
  {
   "cell_type": "markdown",
   "id": "4e9e549f",
   "metadata": {},
   "source": [
    "## Example 2: Classification with one-hot labels\n",
    "We'll use `load_data_as_xy_onehot` to get features and one-hot encoded targets for a classification problem."
   ]
  },
  {
   "cell_type": "code",
   "execution_count": 3,
   "id": "fc3577b1",
   "metadata": {},
   "outputs": [
    {
     "name": "stdout",
     "output_type": "stream",
     "text": [
      "Classification accuracy: 0.8850\n"
     ]
    }
   ],
   "source": [
    "# Load a classification dataset with one-hot labels\n",
    "X, Y = load_data.load_data_as_xy_onehot('MNIST', local=True)\n",
    "# Convert one-hot labels to class indices\n",
    "if isinstance(Y, pd.DataFrame):\n",
    "    y = Y.values.argmax(axis=1)\n",
    "else:\n",
    "    y = np.argmax(Y, axis=1)\n",
    "# Train/test split\n",
    "X_train, X_test, y_train, y_test = train_test_split(X, y, test_size=0.2, random_state=42)\n",
    "# Fit RandomForestClassifier\n",
    "clf = RandomForestClassifier(n_estimators=100, random_state=42)\n",
    "clf.fit(X_train, y_train)\n",
    "y_pred = clf.predict(X_test)\n",
    "acc = accuracy_score(y_test, y_pred)\n",
    "print(f'Classification accuracy: {acc:.4f}')"
   ]
  }
 ],
 "metadata": {
  "kernelspec": {
   "display_name": ".venv",
   "language": "python",
   "name": "python3"
  },
  "language_info": {
   "codemirror_mode": {
    "name": "ipython",
    "version": 3
   },
   "file_extension": ".py",
   "mimetype": "text/x-python",
   "name": "python",
   "nbconvert_exporter": "python",
   "pygments_lexer": "ipython3",
   "version": "3.10.12"
  }
 },
 "nbformat": 4,
 "nbformat_minor": 5
}
