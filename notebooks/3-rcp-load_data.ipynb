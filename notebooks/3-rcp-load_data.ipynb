{
 "cells": [
  {
   "cell_type": "markdown",
   "id": "1ff4c439",
   "metadata": {},
   "source": [
    "# Demonstrating Data Loading Functions\n",
    "\n",
    "This notebook demonstrates the use of the main data loading functions from `generatedata/load_data.py`:\n",
    "- `load_data`\n",
    "- `load_data_as_xy`\n",
    "- `load_data_as_xy_onehot`\n",
    "\n",
    "We show how to load datasets, inspect their structure, and prepare them for downstream ML workflows."
   ]
  },
  {
   "cell_type": "code",
   "execution_count": 1,
   "id": "f8a68bda",
   "metadata": {},
   "outputs": [],
   "source": [
    "# Import required libraries\n",
    "import pandas as pd\n",
    "from generatedata.load_data import load_data, load_data_as_xy, load_data_as_xy_onehot"
   ]
  },
  {
   "cell_type": "markdown",
   "id": "a1c5587c",
   "metadata": {},
   "source": [
    "## Load a Dataset (Dictionary Format)\n",
    "\n",
    "The `load_data` function returns a dictionary with keys: `info`, `start`, and `target`."
   ]
  },
  {
   "cell_type": "code",
   "execution_count": 2,
   "id": "5265c48f",
   "metadata": {},
   "outputs": [
    {
     "name": "stdout",
     "output_type": "stream",
     "text": [
      "Keys: dict_keys(['info', 'start', 'target'])\n",
      "Info: {'num_points': 1000, 'size': 794, 'x_y_index': 784, 'x_size': 784, 'y_size': 10, 'onehot_y': 1}\n",
      "Start shape: (1000, 794)\n",
      "Target shape: (1000, 794)\n"
     ]
    }
   ],
   "source": [
    "# Example: Load the MNIST dataset (adjust name as needed)\n",
    "data = load_data('MNIST', local=True)\n",
    "print('Keys:', data.keys())\n",
    "print('Info:', data['info'])\n",
    "print('Start shape:', data['start'].shape)\n",
    "print('Target shape:', data['target'].shape)"
   ]
  },
  {
   "cell_type": "markdown",
   "id": "ee5385bb",
   "metadata": {},
   "source": [
    "## Load Data as (X, Y) for ML\n",
    "\n",
    "The `load_data_as_xy` function splits the target data into features (X) and labels (Y) using metadata in `info.json`."
   ]
  },
  {
   "cell_type": "code",
   "execution_count": 3,
   "id": "2a5724c4",
   "metadata": {},
   "outputs": [
    {
     "name": "stdout",
     "output_type": "stream",
     "text": [
      "X shape: (1000, 784)\n",
      "Y shape: (1000, 10)\n"
     ]
    },
    {
     "data": {
      "text/plain": [
       "(    x0   x1   x2   x3   x4   x5   x6   x7   x8   x9  ...  x774  x775  x776  \\\n",
       " 0 -1.0 -1.0 -1.0 -1.0 -1.0 -1.0 -1.0 -1.0 -1.0 -1.0  ...  -1.0  -1.0  -1.0   \n",
       " 1 -1.0 -1.0 -1.0 -1.0 -1.0 -1.0 -1.0 -1.0 -1.0 -1.0  ...  -1.0  -1.0  -1.0   \n",
       " 2 -1.0 -1.0 -1.0 -1.0 -1.0 -1.0 -1.0 -1.0 -1.0 -1.0  ...  -1.0  -1.0  -1.0   \n",
       " 3 -1.0 -1.0 -1.0 -1.0 -1.0 -1.0 -1.0 -1.0 -1.0 -1.0  ...  -1.0  -1.0  -1.0   \n",
       " 4 -1.0 -1.0 -1.0 -1.0 -1.0 -1.0 -1.0 -1.0 -1.0 -1.0  ...  -1.0  -1.0  -1.0   \n",
       " \n",
       "    x777  x778  x779  x780  x781  x782  x783  \n",
       " 0  -1.0  -1.0  -1.0  -1.0  -1.0  -1.0  -1.0  \n",
       " 1  -1.0  -1.0  -1.0  -1.0  -1.0  -1.0  -1.0  \n",
       " 2  -1.0  -1.0  -1.0  -1.0  -1.0  -1.0  -1.0  \n",
       " 3  -1.0  -1.0  -1.0  -1.0  -1.0  -1.0  -1.0  \n",
       " 4  -1.0  -1.0  -1.0  -1.0  -1.0  -1.0  -1.0  \n",
       " \n",
       " [5 rows x 784 columns],\n",
       "    x784  x785  x786  x787  x788  x789  x790  x791  x792  x793\n",
       " 0   0.0   0.0   0.0   0.0   0.0   0.0   0.0   1.0   0.0   0.0\n",
       " 1   0.0   0.0   0.0   0.0   0.0   0.0   0.0   0.0   1.0   0.0\n",
       " 2   1.0   0.0   0.0   0.0   0.0   0.0   0.0   0.0   0.0   0.0\n",
       " 3   0.0   0.0   0.0   0.0   0.0   0.0   0.0   0.0   1.0   0.0\n",
       " 4   0.0   0.0   0.0   0.0   0.0   1.0   0.0   0.0   0.0   0.0)"
      ]
     },
     "execution_count": 3,
     "metadata": {},
     "output_type": "execute_result"
    }
   ],
   "source": [
    "# Load as (X, Y) for regression/classification\n",
    "X, Y = load_data_as_xy('MNIST', local=True)\n",
    "print('X shape:', X.shape)\n",
    "print('Y shape:', Y.shape)\n",
    "X.head(), Y.head()"
   ]
  },
  {
   "cell_type": "markdown",
   "id": "60cd07d6",
   "metadata": {},
   "source": [
    "## Load Data as (X, Y) with One-Hot Labels\n",
    "\n",
    "The `load_data_as_xy_onehot` function returns features and one-hot encoded labels (if available)."
   ]
  },
  {
   "cell_type": "code",
   "execution_count": 4,
   "id": "96620988",
   "metadata": {},
   "outputs": [
    {
     "name": "stdout",
     "output_type": "stream",
     "text": [
      "X shape: (1000, 784)\n",
      "Y (one-hot) shape: (1000, 10)\n"
     ]
    }
   ],
   "source": [
    "# Load as (X, Y) with one-hot labels (if supported by dataset)\n",
    "try:\n",
    "    X_oh, Y_oh = load_data_as_xy_onehot('MNIST', local=True)\n",
    "    print('X shape:', X_oh.shape)\n",
    "    print('Y (one-hot) shape:', Y_oh.shape)\n",
    "    X_oh.head(), Y_oh.head()\n",
    "except Exception as e:\n",
    "    print('One-hot loading not supported for this dataset:', e)"
   ]
  }
 ],
 "metadata": {
  "kernelspec": {
   "display_name": ".venv",
   "language": "python",
   "name": "python3"
  },
  "language_info": {
   "codemirror_mode": {
    "name": "ipython",
    "version": 3
   },
   "file_extension": ".py",
   "mimetype": "text/x-python",
   "name": "python",
   "nbconvert_exporter": "python",
   "pygments_lexer": "ipython3",
   "version": "3.10.12"
  }
 },
 "nbformat": 4,
 "nbformat_minor": 5
}
